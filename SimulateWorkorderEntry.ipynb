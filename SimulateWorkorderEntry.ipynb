{
    "metadata": {
        "kernelspec": {
            "name": "SQL",
            "display_name": "SQL",
            "language": "sql"
        },
        "language_info": {
            "name": "sql",
            "version": ""
        }
    },
    "nbformat_minor": 2,
    "nbformat": 4,
    "cells": [
        {
            "cell_type": "code",
            "source": [
                "INSERT INTO dbo.Workorders ([Summary], [Description], [Location])\n",
                "VALUES ('Minor change', 'Work needed at building 33', '1 Microsoft Way, Redmond, WA 98052');\n",
                "\n",
                "INSERT INTO dbo.Workorders ([Summary], [Description], [Location])\n",
                "VALUES \n",
                "('Request from front desk', 'Lobby lighting changes needed', '10900 Stonelake Boulevard, Austin, TX 78759');\n",
                "\n",
                "INSERT INTO dbo.Workorders ([Summary], [Description], [Location])\n",
                "VALUES \n",
                "('Window cleaning', '6th floor offices windows need cleaning', '3601 76th Street West, Edina, MN 55435');"
            ],
            "metadata": {
                "azdata_cell_guid": "a3608065-8a7b-4478-bac4-8ec9ce51dbc9",
                "language": "sql"
            },
            "outputs": [
                {
                    "output_type": "display_data",
                    "data": {
                        "text/html": "Warning: header 'Content-Type' was overwritten by a system-defined value."
                    },
                    "metadata": {}
                },
                {
                    "output_type": "display_data",
                    "data": {
                        "text/html": "(1 row affected)"
                    },
                    "metadata": {}
                },
                {
                    "output_type": "display_data",
                    "data": {
                        "text/html": "Warning: header 'Content-Type' was overwritten by a system-defined value."
                    },
                    "metadata": {}
                },
                {
                    "output_type": "display_data",
                    "data": {
                        "text/html": "(1 row affected)"
                    },
                    "metadata": {}
                },
                {
                    "output_type": "display_data",
                    "data": {
                        "text/html": "Warning: header 'Content-Type' was overwritten by a system-defined value."
                    },
                    "metadata": {}
                },
                {
                    "output_type": "display_data",
                    "data": {
                        "text/html": "(1 row affected)"
                    },
                    "metadata": {}
                },
                {
                    "output_type": "display_data",
                    "data": {
                        "text/html": "Total execution time: 00:00:05.211"
                    },
                    "metadata": {}
                }
            ],
            "execution_count": 1
        },
        {
            "cell_type": "code",
            "source": [
                "SELECT * from dbo.Workorders"
            ],
            "metadata": {
                "azdata_cell_guid": "d3abc919-50ce-4cb7-a73a-c4302466ff62",
                "language": "sql"
            },
            "outputs": [
                {
                    "output_type": "display_data",
                    "data": {
                        "text/html": "(3 rows affected)"
                    },
                    "metadata": {}
                },
                {
                    "output_type": "display_data",
                    "data": {
                        "text/html": "Total execution time: 00:00:00.113"
                    },
                    "metadata": {}
                },
                {
                    "output_type": "execute_result",
                    "execution_count": 2,
                    "data": {
                        "application/vnd.dataresource+json": {
                            "schema": {
                                "fields": [
                                    {
                                        "name": "Id"
                                    },
                                    {
                                        "name": "Summary"
                                    },
                                    {
                                        "name": "Description"
                                    },
                                    {
                                        "name": "Location"
                                    },
                                    {
                                        "name": "Latitude"
                                    },
                                    {
                                        "name": "Longitude"
                                    }
                                ]
                            },
                            "data": [
                                {
                                    "0": "850530ee-f36c-427c-8109-b5c8ebccfefb",
                                    "1": "Minor change",
                                    "2": "Work needed at building 33",
                                    "3": "1 Microsoft Way, Redmond, WA 98052",
                                    "4": "NULL",
                                    "5": "NULL"
                                },
                                {
                                    "0": "a8d76ba1-4777-4b90-83d3-c7de112f297a",
                                    "1": "Request from front desk",
                                    "2": "Lobby lighting changes needed",
                                    "3": "10900 Stonelake Boulevard, Austin, TX 78759",
                                    "4": "NULL",
                                    "5": "NULL"
                                },
                                {
                                    "0": "bbaacb3c-2a7e-4bb9-8676-fbac52f0587c",
                                    "1": "Window cleaning",
                                    "2": "6th floor offices windows need cleaning",
                                    "3": "3601 76th Street West, Edina, MN 55435",
                                    "4": "NULL",
                                    "5": "NULL"
                                }
                            ]
                        },
                        "text/html": "<table><tr><th>Id</th><th>Summary</th><th>Description</th><th>Location</th><th>Latitude</th><th>Longitude</th></tr><tr><td>850530ee-f36c-427c-8109-b5c8ebccfefb</td><td>Minor change</td><td>Work needed at building 33</td><td>1 Microsoft Way, Redmond, WA 98052</td><td>NULL</td><td>NULL</td></tr><tr><td>a8d76ba1-4777-4b90-83d3-c7de112f297a</td><td>Request from front desk</td><td>Lobby lighting changes needed</td><td>10900 Stonelake Boulevard, Austin, TX 78759</td><td>NULL</td><td>NULL</td></tr><tr><td>bbaacb3c-2a7e-4bb9-8676-fbac52f0587c</td><td>Window cleaning</td><td>6th floor offices windows need cleaning</td><td>3601 76th Street West, Edina, MN 55435</td><td>NULL</td><td>NULL</td></tr></table>"
                    },
                    "metadata": {}
                }
            ],
            "execution_count": 2
        }
    ]
}